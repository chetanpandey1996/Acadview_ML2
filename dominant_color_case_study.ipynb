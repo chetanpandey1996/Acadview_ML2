{
 "cells": [
  {
   "cell_type": "code",
   "execution_count": 1,
   "metadata": {},
   "outputs": [],
   "source": [
    "import cv2\n",
    "import numpy as np"
   ]
  },
  {
   "cell_type": "code",
   "execution_count": 2,
   "metadata": {},
   "outputs": [],
   "source": [
    "image = cv2.imread('image.jpg')"
   ]
  },
  {
   "cell_type": "code",
   "execution_count": 3,
   "metadata": {},
   "outputs": [],
   "source": [
    "image = cv2.cvtColor(image, cv2.COLOR_BGR2RGB)"
   ]
  },
  {
   "cell_type": "code",
   "execution_count": 4,
   "metadata": {},
   "outputs": [],
   "source": [
    "image = image.reshape((image.shape[0] * image.shape[1], 3))"
   ]
  },
  {
   "cell_type": "code",
   "execution_count": 5,
   "metadata": {},
   "outputs": [],
   "source": [
    "from sklearn.cluster import KMeans"
   ]
  },
  {
   "cell_type": "code",
   "execution_count": 6,
   "metadata": {},
   "outputs": [
    {
     "data": {
      "text/plain": [
       "KMeans(algorithm='auto', copy_x=True, init='k-means++', max_iter=300,\n",
       "    n_clusters=3, n_init=10, n_jobs=4, precompute_distances='auto',\n",
       "    random_state=None, tol=0.0001, verbose=0)"
      ]
     },
     "execution_count": 6,
     "metadata": {},
     "output_type": "execute_result"
    }
   ],
   "source": [
    "classifier = KMeans(n_clusters = 3, n_jobs=4)\n",
    "classifier.fit(image)"
   ]
  },
  {
   "cell_type": "code",
   "execution_count": 7,
   "metadata": {},
   "outputs": [],
   "source": [
    "labels = classifier.labels_"
   ]
  },
  {
   "cell_type": "code",
   "execution_count": 8,
   "metadata": {},
   "outputs": [
    {
     "data": {
      "text/plain": [
       "array([1, 1, 1, ..., 1, 1, 1], dtype=int32)"
      ]
     },
     "execution_count": 8,
     "metadata": {},
     "output_type": "execute_result"
    }
   ],
   "source": [
    "labels"
   ]
  },
  {
   "cell_type": "code",
   "execution_count": 9,
   "metadata": {},
   "outputs": [
    {
     "data": {
      "text/plain": [
       "[0, 0, 0]"
      ]
     },
     "execution_count": 9,
     "metadata": {},
     "output_type": "execute_result"
    }
   ],
   "source": [
    "label = [0] * 3\n",
    "label"
   ]
  },
  {
   "cell_type": "code",
   "execution_count": 10,
   "metadata": {},
   "outputs": [
    {
     "data": {
      "text/plain": [
       "[366816, 193957, 58155]"
      ]
     },
     "execution_count": 10,
     "metadata": {},
     "output_type": "execute_result"
    }
   ],
   "source": [
    "for i in labels:\n",
    "    label[i] += 1\n",
    "label    "
   ]
  },
  {
   "cell_type": "code",
   "execution_count": 15,
   "metadata": {},
   "outputs": [],
   "source": [
    "a = label[0]/sum(label)*100\n",
    "b = label[1]/sum(label)*100\n",
    "c = label[2]/sum(label)*100"
   ]
  },
  {
   "cell_type": "code",
   "execution_count": 16,
   "metadata": {},
   "outputs": [
    {
     "data": {
      "text/plain": [
       "(59.2663443890081, 31.337570767520617, 9.396084843471291)"
      ]
     },
     "execution_count": 16,
     "metadata": {},
     "output_type": "execute_result"
    }
   ],
   "source": [
    "a,b,c"
   ]
  },
  {
   "cell_type": "code",
   "execution_count": 17,
   "metadata": {},
   "outputs": [],
   "source": [
    "color = classifier.cluster_centers_"
   ]
  },
  {
   "cell_type": "code",
   "execution_count": 18,
   "metadata": {},
   "outputs": [
    {
     "data": {
      "text/plain": [
       "array([[ 22.43891488,  21.90808471,  20.96797304],\n",
       "       [254.18388612, 254.18080296, 254.17905   ],\n",
       "       [177.66257416, 155.04429542,  90.56063967]])"
      ]
     },
     "execution_count": 18,
     "metadata": {},
     "output_type": "execute_result"
    }
   ],
   "source": [
    "color"
   ]
  },
  {
   "cell_type": "code",
   "execution_count": 19,
   "metadata": {},
   "outputs": [],
   "source": [
    "color = [ [int(x) for x in c ] for c in color]"
   ]
  },
  {
   "cell_type": "code",
   "execution_count": 20,
   "metadata": {},
   "outputs": [
    {
     "data": {
      "text/plain": [
       "[[22, 21, 20], [254, 254, 254], [177, 155, 90]]"
      ]
     },
     "execution_count": 20,
     "metadata": {},
     "output_type": "execute_result"
    }
   ],
   "source": [
    "color"
   ]
  },
  {
   "cell_type": "code",
   "execution_count": 23,
   "metadata": {},
   "outputs": [],
   "source": [
    "import webcolors"
   ]
  },
  {
   "cell_type": "code",
   "execution_count": 24,
   "metadata": {},
   "outputs": [],
   "source": [
    "color = [webcolors.rgb_to_hex(x) for x in color]"
   ]
  },
  {
   "cell_type": "code",
   "execution_count": 25,
   "metadata": {},
   "outputs": [],
   "source": [
    "import matplotlib.pyplot as plt"
   ]
  },
  {
   "cell_type": "code",
   "execution_count": 26,
   "metadata": {},
   "outputs": [
    {
     "data": {
      "image/png": "[encoded data removed]",
      "text/plain": [
       "<matplotlib.figure.Figure at 0x7f786a36ab00>"
      ]
     },
     "metadata": {},
     "output_type": "display_data"
    }
   ],
   "source": [
    "plt.pie(label, colors = color)\n",
    "plt.axis('equal')\n",
    "plt.show()"
   ]
  },
  {
   "cell_type": "markdown",
   "metadata": {},
   "source": [
    "## Importing All images"
   ]
  },
  {
   "cell_type": "code",
   "execution_count": 127,
   "metadata": {},
   "outputs": [],
   "source": [
    "k = 3\n",
    "image = []\n",
    "colorTriple = []\n",
    "color = []\n",
    "label = []\n",
    "for i in range(10):\n",
    "    name = 'Dominant Color Data Set/image '+ str(i+1) +'.jpg'\n",
    "    image.append(cv2.imread(name))\n",
    "    image[i] = cv2.cvtColor(image[i], cv2.COLOR_BGR2RGB)\n",
    "    image[i] = image[i].reshape((image[i].shape[0] * image[i].shape[1]), 3)\n",
    "    clf = KMeans(n_clusters = k, n_jobs=4)\n",
    "    clf.fit(image[i])\n",
    "    labels = clf.labels_\n",
    "    label.append([0] * k)\n",
    "    for x in labels: label[i][x] += 1\n",
    "    label[i] = [float(x)/ sum(label[i]) * 100 for x in label[i]]\n",
    "    color.append(clf.cluster_centers_)\n",
    "    color[i] = [[int(j) for j in x] for x in color[i]]\n",
    "    colorTriple.append(color[i])\n",
    "    color[i] = [webcolors.rgb_to_hex(x) for x in color[i]]"
   ]
  },
  {
   "cell_type": "code",
   "execution_count": 128,
   "metadata": {},
   "outputs": [
    {
     "data": {
      "image/png": "[encoded data removed]",
      "text/plain": [
       "<matplotlib.figure.Figure at 0x7f7856b73128>"
      ]
     },
     "metadata": {},
     "output_type": "display_data"
    }
   ],
   "source": [
    "plt.pie(label[7], colors = color[7])\n",
    "plt.axis('equal')\n",
    "plt.show()"
   ]
  },
  {
   "cell_type": "code",
   "execution_count": 129,
   "metadata": {},
   "outputs": [
    {
     "data": {
      "text/plain": [
       "[['#a6595c', '#d9d4d1', '#30325b'],\n",
       " ['#2f3022', '#d6cbc7', '#71634e'],\n",
       " ['#fbfaf8', '#5c4c47', '#d8b59c'],\n",
       " ['#8c8688', '#261b20', '#6b484e'],\n",
       " ['#322b2c', '#fbfbfa', '#c1a093'],\n",
       " ['#f0efee', '#12162d', '#c18f78'],\n",
       " ['#edeaeb', '#1f1f1b', '#d0a07f'],\n",
       " ['#c9bdc1', '#282731', '#74737a'],\n",
       " ['#2c2d40', '#f0f0ef', '#c4afaa'],\n",
       " ['#9a9192', '#852e34', '#471215']]"
      ]
     },
     "execution_count": 129,
     "metadata": {},
     "output_type": "execute_result"
    }
   ],
   "source": [
    "color"
   ]
  },
  {
   "cell_type": "code",
   "execution_count": 130,
   "metadata": {},
   "outputs": [
    {
     "data": {
      "text/plain": [
       "[[166, 89, 92],\n",
       " [217, 212, 209],\n",
       " [48, 50, 91],\n",
       " [47, 48, 34],\n",
       " [214, 203, 199],\n",
       " [113, 99, 78],\n",
       " [251, 250, 248],\n",
       " [92, 76, 71],\n",
       " [216, 181, 156],\n",
       " [140, 134, 136],\n",
       " [38, 27, 32],\n",
       " [107, 72, 78],\n",
       " [50, 43, 44],\n",
       " [251, 251, 250],\n",
       " [193, 160, 147],\n",
       " [240, 239, 238],\n",
       " [18, 22, 45],\n",
       " [193, 143, 120],\n",
       " [237, 234, 235],\n",
       " [31, 31, 27],\n",
       " [208, 160, 127],\n",
       " [201, 189, 193],\n",
       " [40, 39, 49],\n",
       " [116, 115, 122],\n",
       " [44, 45, 64],\n",
       " [240, 240, 239],\n",
       " [196, 175, 170],\n",
       " [154, 145, 146],\n",
       " [133, 46, 52],\n",
       " [71, 18, 21]]"
      ]
     },
     "execution_count": 130,
     "metadata": {},
     "output_type": "execute_result"
    }
   ],
   "source": [
    "colort = [j for i in colorTriple for j in i]\n",
    "colort"
   ]
  },
  {
   "cell_type": "code",
   "execution_count": 131,
   "metadata": {},
   "outputs": [
    {
     "data": {
      "text/plain": [
       "[23.236002604166668,\n",
       " 29.575195312500004,\n",
       " 47.18880208333333,\n",
       " 57.986328125,\n",
       " 27.4091796875,\n",
       " 14.604492187500002,\n",
       " 67.9765625,\n",
       " 15.201497395833332,\n",
       " 16.821940104166664,\n",
       " 63.125651041666664,\n",
       " 21.927734375,\n",
       " 14.946614583333334,\n",
       " 31.134440104166668,\n",
       " 59.257486979166664,\n",
       " 9.608072916666668,\n",
       " 71.48567708333333,\n",
       " 23.813151041666668,\n",
       " 4.701171875,\n",
       " 65.16243489583333,\n",
       " 25.804361979166668,\n",
       " 9.033203125,\n",
       " 14.411458333333332,\n",
       " 56.88964843749999,\n",
       " 28.698893229166668,\n",
       " 58.61067708333333,\n",
       " 32.0712890625,\n",
       " 9.318033854166668,\n",
       " 21.621419270833332,\n",
       " 48.77571614583333,\n",
       " 29.602864583333332]"
      ]
     },
     "execution_count": 131,
     "metadata": {},
     "output_type": "execute_result"
    }
   ],
   "source": [
    "label = [j for i in label for j in i]\n",
    "label"
   ]
  },
  {
   "cell_type": "markdown",
   "metadata": {},
   "source": [
    "## Base Colors"
   ]
  },
  {
   "cell_type": "code",
   "execution_count": 132,
   "metadata": {},
   "outputs": [],
   "source": [
    "colors = [['Black', [0,0,0]],\n",
    " ['Blue', [0,0,255]],\n",
    " ['Brown', [165,42,42]],    \n",
    " ['Cream', [255,255,204]],   \n",
    " ['Green',  [0,128,0]],        \n",
    " ['Grey',   [128,128,128]],\n",
    " ['Yellow', [255,255,0]],\n",
    " ['Orange', [255,165,0]],          \n",
    " ['Pink', [255,192,203]], \n",
    " ['Red', [255,0,0]],  \n",
    " ['Purple', [128,0,128]],\n",
    " ['Tan', [210,180,140]],\n",
    " ['Turquoise', [64,224,208]],\n",
    " ['White', [255,255,255]]]"
   ]
  },
  {
   "cell_type": "code",
   "execution_count": 133,
   "metadata": {},
   "outputs": [
    {
     "data": {
      "text/plain": [
       "['Grey',\n",
       " 'Pink',\n",
       " 'Purple',\n",
       " 'Black',\n",
       " 'Pink',\n",
       " 'Grey',\n",
       " 'White',\n",
       " 'Grey',\n",
       " 'Tan',\n",
       " 'Grey',\n",
       " 'Black',\n",
       " 'Brown',\n",
       " 'Black',\n",
       " 'White',\n",
       " 'Tan',\n",
       " 'White',\n",
       " 'Black',\n",
       " 'Tan',\n",
       " 'White',\n",
       " 'Black',\n",
       " 'Tan',\n",
       " 'Tan',\n",
       " 'Black',\n",
       " 'Grey',\n",
       " 'Black',\n",
       " 'White',\n",
       " 'Tan',\n",
       " 'Grey',\n",
       " 'Brown',\n",
       " 'Black']"
      ]
     },
     "execution_count": 133,
     "metadata": {},
     "output_type": "execute_result"
    }
   ],
   "source": [
    "import math\n",
    "cols = []\n",
    "for i in colort:\n",
    "    dist = 999\n",
    "    color = ''\n",
    "    for j in colors:\n",
    "        val = math.sqrt((j[1][0]-i[0])**2+(j[1][1]-i[1])**2+(j[1][2]-i[2])**2)\n",
    "        if val < dist:\n",
    "            dist = val\n",
    "            color = j[0]\n",
    "    cols.append(color)\n",
    "cols"
   ]
  },
  {
   "cell_type": "code",
   "execution_count": 134,
   "metadata": {},
   "outputs": [
    {
     "data": {
      "text/plain": [
       "{'Black': 30.576920572916663,\n",
       " 'Brown': 6.372233072916666,\n",
       " 'Grey': 16.648795572916665,\n",
       " 'Pink': 5.6984375,\n",
       " 'Purple': 4.718880208333333,\n",
       " 'Tan': 6.389388020833333,\n",
       " 'White': 29.59534505208333}"
      ]
     },
     "execution_count": 134,
     "metadata": {},
     "output_type": "execute_result"
    }
   ],
   "source": [
    "color_total = {}\n",
    "for i, val in enumerate(cols):\n",
    "    if val not in color_total:\n",
    "        color_total[val] = 0\n",
    "    color_total[val] += label[i]\n",
    "for i in color_total:\n",
    "    color_total[i] /= 10\n",
    "color_total"
   ]
  },
  {
   "cell_type": "code",
   "execution_count": 135,
   "metadata": {},
   "outputs": [],
   "source": [
    "%matplotlib inline\n",
    "import seaborn as sns\n",
    "sns.set()"
   ]
  },
  {
   "cell_type": "code",
   "execution_count": 136,
   "metadata": {},
   "outputs": [],
   "source": [
    "x = [i for i in color_total]\n",
    "y = [color_total[i] for i in x]"
   ]
  },
  {
   "cell_type": "markdown",
   "metadata": {},
   "source": [
    "### ploting %tage"
   ]
  },
  {
   "cell_type": "code",
   "execution_count": 137,
   "metadata": {},
   "outputs": [
    {
     "data": {
      "text/plain": [
       "<matplotlib.axes._subplots.AxesSubplot at 0x7f7856d28080>"
      ]
     },
     "execution_count": 137,
     "metadata": {},
     "output_type": "execute_result"
    },
    {
     "data": {
      "image/png": "[encoded data removed]",
      "text/plain": [
       "<matplotlib.figure.Figure at 0x7f7856b7f780>"
      ]
     },
     "metadata": {},
     "output_type": "display_data"
    }
   ],
   "source": [
    "sns.barplot(x, y)"
   ]
  },
  {
   "cell_type": "code",
   "execution_count": null,
   "metadata": {},
   "outputs": [],
   "source": []
  }
 ],
 "metadata": {
  "kernelspec": {
   "display_name": "Python 3",
   "language": "python",
   "name": "python3"
  },
  "language_info": {
   "codemirror_mode": {
    "name": "ipython",
    "version": 3
   },
   "file_extension": ".py",
   "mimetype": "text/x-python",
   "name": "python",
   "nbconvert_exporter": "python",
   "pygments_lexer": "ipython3",
   "version": "3.6.3"
  }
 },
 "nbformat": 4,
 "nbformat_minor": 2
}
